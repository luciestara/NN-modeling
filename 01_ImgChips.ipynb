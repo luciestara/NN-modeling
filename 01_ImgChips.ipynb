{
 "cells": [
  {
   "cell_type": "markdown",
   "metadata": {},
   "source": [
    "create image chips for satelite imagery & labels"
   ]
  },
  {
   "cell_type": "markdown",
   "metadata": {},
   "source": [
    "### create image chips"
   ]
  },
  {
   "cell_type": "code",
   "execution_count": 24,
   "metadata": {},
   "outputs": [],
   "source": [
    "import numpy as np\n",
    "import os \n",
    "import rasterio as rs \n",
    "from pathlib import Path"
   ]
  },
  {
   "cell_type": "code",
   "execution_count": 25,
   "metadata": {},
   "outputs": [],
   "source": [
    "#@title Parameters\n",
    "work_dir = Path('/home/lucie/GDA_UGS/ESA_GDA_UGS/GDA_urban/AI_extensions/data')\n",
    "os.chdir(work_dir)\n",
    "\n",
    "# the imagery and labels should be inside the work_dir \n",
    "imagery = \"imagery.tif\"\n",
    "label = \"labels.tif\"\n",
    "\n",
    "zfill_value = 4 #length of the numbering convention (e.g.0001)"
   ]
  },
  {
   "cell_type": "code",
   "execution_count": 28,
   "metadata": {},
   "outputs": [],
   "source": [
    "def trainchips_single(img, zfill_value, stride=224, winsize=224, variant='img'):\n",
    "    \n",
    "    '''\n",
    "    (stride = winsize/2 >> get 50% overlap)\n",
    "    (depends on model input size, e.g. imagenet uses 224 or 256 pixels)\n",
    "    \n",
    "    variant - when creating image chips for labels, variant='lbl'\n",
    "    '''\n",
    "    \n",
    "    image= rs.open(img)\n",
    "    imgarr=image.read()\n",
    "    print(\"Shape of training data  is: \",imgarr.shape) \n",
    "    invarr= image.read(1)\n",
    "\n",
    "    index=0\n",
    "    for i in np.arange(0,imgarr.shape[1],stride):\n",
    "        for j in np.arange(0,imgarr.shape[2],stride):\n",
    "            img=imgarr[:,i:i+winsize,j:j+winsize]\n",
    "            x,y = (j*image.transform[0]+image.transform[2]),(image.transform[5]+i*image.transform[4])\n",
    "            transform= [image.transform[0],0,x,0,image.transform[4],y]\n",
    "            index+=1\n",
    "            \n",
    "            if variant=='img':\n",
    "                with rs.open(str(index).zfill(zfill_value)+\"_img.tif\",\"w\",driver='GTiff', count=imgarr.shape[0], dtype=imgarr.dtype,\n",
    "                         width=winsize, height=winsize, transform=transform, crs=image.crs) as raschip:\n",
    "                         raschip.write(img)\n",
    "            elif variant=='lbl':\n",
    "                with rs.open(str(index).zfill(zfill_value)+\"_lbl.tif\",\"w\",driver='GTiff', count=imgarr.shape[0], dtype=imgarr.dtype,\n",
    "                         width=winsize, height=winsize, transform=transform, crs=image.crs) as raschip:\n",
    "                         raschip.write(img)\n",
    "                        \n",
    "    print(\"The number of image chips is: \", index)"
   ]
  },
  {
   "cell_type": "code",
   "execution_count": 29,
   "metadata": {},
   "outputs": [
    {
     "name": "stdout",
     "output_type": "stream",
     "text": [
      "Shape of training data  is:  (3, 7999, 7999)\n",
      "The number of image chips is:  1296\n",
      "Shape of training data  is:  (1, 7999, 7999)\n",
      "The number of image chips is:  1296\n"
     ]
    }
   ],
   "source": [
    "trainchips_single(imagery,zfill_value=zfill_value)\n",
    "trainchips_single(label,zfill_value=zfill_value,variant='lbl')"
   ]
  },
  {
   "cell_type": "markdown",
   "metadata": {},
   "source": [
    "### organize files\n",
    "\n",
    "distribute the created image chips into img and lbl folders"
   ]
  },
  {
   "cell_type": "code",
   "execution_count": 30,
   "metadata": {},
   "outputs": [],
   "source": [
    "# create img & lbl directories\n",
    "\n",
    "dst_img = work_dir.joinpath('img')\n",
    "dst_lbl = work_dir.joinpath('lbl')\n",
    "\n",
    "os.mkdir(dst_img)\n",
    "os.mkdir(dst_lbl)"
   ]
  },
  {
   "cell_type": "code",
   "execution_count": 31,
   "metadata": {},
   "outputs": [],
   "source": [
    "# split img chips into files by \"lbl\" and \"img\"\n",
    "import shutil\n",
    "\n",
    "for file_item in os.listdir(work_dir):\n",
    "    if \"_img\" in file_item:\n",
    "        src_img=work_dir.joinpath(file_item)\n",
    "        shutil.move(src_img, dst_img)\n",
    "    elif \"_lbl\" in file_item:\n",
    "        src_lbl=work_dir.joinpath(file_item)\n",
    "        shutil.move(src_lbl, dst_lbl)\n",
    "    else:\n",
    "        continue"
   ]
  },
  {
   "cell_type": "code",
   "execution_count": null,
   "metadata": {},
   "outputs": [],
   "source": []
  }
 ],
 "metadata": {
  "kernelspec": {
   "display_name": "gda_ugs",
   "language": "python",
   "name": "gda_ugs"
  },
  "language_info": {
   "codemirror_mode": {
    "name": "ipython",
    "version": 3
   },
   "file_extension": ".py",
   "mimetype": "text/x-python",
   "name": "python",
   "nbconvert_exporter": "python",
   "pygments_lexer": "ipython3",
   "version": "3.10.6"
  },
  "nbTranslate": {
   "displayLangs": [
    "*"
   ],
   "hotkey": "alt-t",
   "langInMainMenu": true,
   "sourceLang": "en",
   "targetLang": "fr",
   "useGoogleTranslate": true
  },
  "toc": {
   "base_numbering": 1,
   "nav_menu": {},
   "number_sections": true,
   "sideBar": true,
   "skip_h1_title": false,
   "title_cell": "Table of Contents",
   "title_sidebar": "Contents",
   "toc_cell": false,
   "toc_position": {},
   "toc_section_display": true,
   "toc_window_display": false
  },
  "varInspector": {
   "cols": {
    "lenName": 16,
    "lenType": 16,
    "lenVar": 40
   },
   "kernels_config": {
    "python": {
     "delete_cmd_postfix": "",
     "delete_cmd_prefix": "del ",
     "library": "var_list.py",
     "varRefreshCmd": "print(var_dic_list())"
    },
    "r": {
     "delete_cmd_postfix": ") ",
     "delete_cmd_prefix": "rm(",
     "library": "var_list.r",
     "varRefreshCmd": "cat(var_dic_list()) "
    }
   },
   "types_to_exclude": [
    "module",
    "function",
    "builtin_function_or_method",
    "instance",
    "_Feature"
   ],
   "window_display": false
  }
 },
 "nbformat": 4,
 "nbformat_minor": 4
}
